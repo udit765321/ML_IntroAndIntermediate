{
 "cells": [
  {
   "cell_type": "markdown",
   "id": "59bf8384",
   "metadata": {
    "papermill": {
     "duration": 0.008813,
     "end_time": "2022-06-15T16:35:39.400445",
     "exception": false,
     "start_time": "2022-06-15T16:35:39.391632",
     "status": "completed"
    },
    "tags": []
   },
   "source": [
    "**This notebook is an exercise in the [Introduction to Machine Learning](https://www.kaggle.com/learn/intro-to-machine-learning) course.  You can reference the tutorial at [this link](https://www.kaggle.com/dansbecker/model-validation).**\n",
    "\n",
    "---\n"
   ]
  },
  {
   "cell_type": "markdown",
   "id": "0f710997",
   "metadata": {
    "papermill": {
     "duration": 0.004638,
     "end_time": "2022-06-15T16:35:39.410511",
     "exception": false,
     "start_time": "2022-06-15T16:35:39.405873",
     "status": "completed"
    },
    "tags": []
   },
   "source": [
    "## Recap\n",
    "You've built a model. In this exercise you will test how good your model is.\n",
    "\n",
    "Run the cell below to set up your coding environment where the previous exercise left off."
   ]
  },
  {
   "cell_type": "code",
   "execution_count": 1,
   "id": "a0cdabb5",
   "metadata": {
    "execution": {
     "iopub.execute_input": "2022-06-15T16:35:39.422556Z",
     "iopub.status.busy": "2022-06-15T16:35:39.421864Z",
     "iopub.status.idle": "2022-06-15T16:35:40.640408Z",
     "shell.execute_reply": "2022-06-15T16:35:40.639501Z"
    },
    "papermill": {
     "duration": 1.228481,
     "end_time": "2022-06-15T16:35:40.643794",
     "exception": false,
     "start_time": "2022-06-15T16:35:39.415313",
     "status": "completed"
    },
    "tags": []
   },
   "outputs": [
    {
     "name": "stdout",
     "output_type": "stream",
     "text": [
      "First in-sample predictions: [208500. 181500. 223500. 140000. 250000.]\n",
      "Actual target values for those homes: [208500, 181500, 223500, 140000, 250000]\n",
      "Setup Complete\n"
     ]
    }
   ],
   "source": [
    "# Code you have previously used to load data\n",
    "import pandas as pd\n",
    "from sklearn.tree import DecisionTreeRegressor\n",
    "\n",
    "# Path of the file to read\n",
    "iowa_file_path = '../input/home-data-for-ml-course/train.csv'\n",
    "\n",
    "home_data = pd.read_csv(iowa_file_path)\n",
    "y = home_data.SalePrice\n",
    "feature_columns = ['LotArea', 'YearBuilt', '1stFlrSF', '2ndFlrSF', 'FullBath', 'BedroomAbvGr', 'TotRmsAbvGrd']\n",
    "X = home_data[feature_columns]\n",
    "\n",
    "# Specify Model\n",
    "iowa_model = DecisionTreeRegressor()\n",
    "# Fit Model\n",
    "iowa_model.fit(X, y)\n",
    "\n",
    "print(\"First in-sample predictions:\", iowa_model.predict(X.head()))\n",
    "print(\"Actual target values for those homes:\", y.head().tolist())\n",
    "\n",
    "# Set up code checking\n",
    "from learntools.core import binder\n",
    "binder.bind(globals())\n",
    "from learntools.machine_learning.ex4 import *\n",
    "print(\"Setup Complete\")"
   ]
  },
  {
   "cell_type": "markdown",
   "id": "66869efa",
   "metadata": {
    "papermill": {
     "duration": 0.004631,
     "end_time": "2022-06-15T16:35:40.654254",
     "exception": false,
     "start_time": "2022-06-15T16:35:40.649623",
     "status": "completed"
    },
    "tags": []
   },
   "source": [
    "# Exercises\n",
    "\n",
    "## Step 1: Split Your Data\n",
    "Use the `train_test_split` function to split up your data.\n",
    "\n",
    "Give it the argument `random_state=1` so the `check` functions know what to expect when verifying your code.\n",
    "\n",
    "Recall, your features are loaded in the DataFrame **X** and your target is loaded in **y**.\n"
   ]
  },
  {
   "cell_type": "code",
   "execution_count": 2,
   "id": "2321661a",
   "metadata": {
    "execution": {
     "iopub.execute_input": "2022-06-15T16:35:40.666080Z",
     "iopub.status.busy": "2022-06-15T16:35:40.665439Z",
     "iopub.status.idle": "2022-06-15T16:35:40.679637Z",
     "shell.execute_reply": "2022-06-15T16:35:40.678760Z"
    },
    "papermill": {
     "duration": 0.022238,
     "end_time": "2022-06-15T16:35:40.681548",
     "exception": false,
     "start_time": "2022-06-15T16:35:40.659310",
     "status": "completed"
    },
    "tags": []
   },
   "outputs": [
    {
     "data": {
      "application/javascript": [
       "parent.postMessage({\"jupyterEvent\": \"custom.exercise_interaction\", \"data\": {\"outcomeType\": 1, \"valueTowardsCompletion\": 0.25, \"interactionType\": 1, \"questionType\": 2, \"questionId\": \"1_SplitData\", \"learnToolsVersion\": \"0.3.4\", \"failureMessage\": \"\", \"exceptionClass\": \"\", \"trace\": \"\"}}, \"*\")"
      ],
      "text/plain": [
       "<IPython.core.display.Javascript object>"
      ]
     },
     "metadata": {},
     "output_type": "display_data"
    },
    {
     "data": {
      "text/markdown": [
       "<span style=\"color:#33cc33\">Correct</span>"
      ],
      "text/plain": [
       "Correct"
      ]
     },
     "metadata": {},
     "output_type": "display_data"
    }
   ],
   "source": [
    "# Import the train_test_split function and uncomment\n",
    "# from _ import _\n",
    "from sklearn.model_selection import train_test_split\n",
    "# fill in and uncomment\n",
    "train_X, val_X, train_y, val_y = train_test_split(X,y,random_state=1)\n",
    "\n",
    "# Check your answer\n",
    "step_1.check()"
   ]
  },
  {
   "cell_type": "code",
   "execution_count": 3,
   "id": "55ffb68d",
   "metadata": {
    "execution": {
     "iopub.execute_input": "2022-06-15T16:35:40.693353Z",
     "iopub.status.busy": "2022-06-15T16:35:40.692787Z",
     "iopub.status.idle": "2022-06-15T16:35:40.696841Z",
     "shell.execute_reply": "2022-06-15T16:35:40.696078Z"
    },
    "papermill": {
     "duration": 0.01232,
     "end_time": "2022-06-15T16:35:40.698975",
     "exception": false,
     "start_time": "2022-06-15T16:35:40.686655",
     "status": "completed"
    },
    "tags": []
   },
   "outputs": [],
   "source": [
    "# The lines below will show you a hint or the solution.\n",
    "# step_1.hint() \n",
    "# step_1.solution()\n"
   ]
  },
  {
   "cell_type": "markdown",
   "id": "29b797f8",
   "metadata": {
    "papermill": {
     "duration": 0.004921,
     "end_time": "2022-06-15T16:35:40.709162",
     "exception": false,
     "start_time": "2022-06-15T16:35:40.704241",
     "status": "completed"
    },
    "tags": []
   },
   "source": [
    "## Step 2: Specify and Fit the Model\n",
    "\n",
    "Create a `DecisionTreeRegressor` model and fit it to the relevant data.\n",
    "Set `random_state` to 1 again when creating the model."
   ]
  },
  {
   "cell_type": "code",
   "execution_count": 4,
   "id": "0fc7366b",
   "metadata": {
    "execution": {
     "iopub.execute_input": "2022-06-15T16:35:40.721445Z",
     "iopub.status.busy": "2022-06-15T16:35:40.720767Z",
     "iopub.status.idle": "2022-06-15T16:35:40.747009Z",
     "shell.execute_reply": "2022-06-15T16:35:40.746371Z"
    },
    "papermill": {
     "duration": 0.0348,
     "end_time": "2022-06-15T16:35:40.749051",
     "exception": false,
     "start_time": "2022-06-15T16:35:40.714251",
     "status": "completed"
    },
    "tags": []
   },
   "outputs": [
    {
     "name": "stdout",
     "output_type": "stream",
     "text": [
      "[186500. 184000. 130000.  92000. 164500. 220000. 335000. 144152. 215000.\n",
      " 262000.]\n",
      "[186500. 184000. 130000.  92000. 164500. 220000. 335000. 144152. 215000.\n",
      " 262000.]\n"
     ]
    },
    {
     "data": {
      "application/javascript": [
       "parent.postMessage({\"jupyterEvent\": \"custom.exercise_interaction\", \"data\": {\"outcomeType\": 1, \"valueTowardsCompletion\": 0.25, \"interactionType\": 1, \"questionType\": 2, \"questionId\": \"2_FitModelWithTrain\", \"learnToolsVersion\": \"0.3.4\", \"failureMessage\": \"\", \"exceptionClass\": \"\", \"trace\": \"\"}}, \"*\")"
      ],
      "text/plain": [
       "<IPython.core.display.Javascript object>"
      ]
     },
     "metadata": {},
     "output_type": "display_data"
    },
    {
     "data": {
      "text/markdown": [
       "<span style=\"color:#33cc33\">Correct</span>"
      ],
      "text/plain": [
       "Correct"
      ]
     },
     "metadata": {},
     "output_type": "display_data"
    }
   ],
   "source": [
    "# You imported DecisionTreeRegressor in your last exercise\n",
    "# and that code has been copied to the setup code above. So, no need to\n",
    "# import it again\n",
    "\n",
    "# Specify the model\n",
    "iowa_model =DecisionTreeRegressor(random_state=1)\n",
    "\n",
    "# Fit iowa_model with the training data.\n",
    "iowa_model.fit(train_X,train_y)\n",
    "\n",
    "# Check your answer\n",
    "step_2.check()"
   ]
  },
  {
   "cell_type": "code",
   "execution_count": 5,
   "id": "ba18670b",
   "metadata": {
    "execution": {
     "iopub.execute_input": "2022-06-15T16:35:40.762147Z",
     "iopub.status.busy": "2022-06-15T16:35:40.761383Z",
     "iopub.status.idle": "2022-06-15T16:35:40.768673Z",
     "shell.execute_reply": "2022-06-15T16:35:40.767740Z"
    },
    "papermill": {
     "duration": 0.015629,
     "end_time": "2022-06-15T16:35:40.770503",
     "exception": false,
     "start_time": "2022-06-15T16:35:40.754874",
     "status": "completed"
    },
    "tags": []
   },
   "outputs": [
    {
     "data": {
      "application/javascript": [
       "parent.postMessage({\"jupyterEvent\": \"custom.exercise_interaction\", \"data\": {\"interactionType\": 3, \"questionType\": 2, \"questionId\": \"2_FitModelWithTrain\", \"learnToolsVersion\": \"0.3.4\", \"valueTowardsCompletion\": 0.0, \"failureMessage\": \"\", \"exceptionClass\": \"\", \"trace\": \"\", \"outcomeType\": 4}}, \"*\")"
      ],
      "text/plain": [
       "<IPython.core.display.Javascript object>"
      ]
     },
     "metadata": {},
     "output_type": "display_data"
    },
    {
     "data": {
      "text/markdown": [
       "<span style=\"color:#33cc99\">Solution:</span> \n",
       "```python\n",
       "iowa_model = DecisionTreeRegressor(random_state=1)\n",
       "iowa_model.fit(train_X, train_y)\n",
       "```"
      ],
      "text/plain": [
       "Solution: \n",
       "```python\n",
       "iowa_model = DecisionTreeRegressor(random_state=1)\n",
       "iowa_model.fit(train_X, train_y)\n",
       "```"
      ]
     },
     "metadata": {},
     "output_type": "display_data"
    }
   ],
   "source": [
    "# step_2.hint()\n",
    "step_2.solution()"
   ]
  },
  {
   "cell_type": "markdown",
   "id": "8d2dfdc4",
   "metadata": {
    "papermill": {
     "duration": 0.005576,
     "end_time": "2022-06-15T16:35:40.781845",
     "exception": false,
     "start_time": "2022-06-15T16:35:40.776269",
     "status": "completed"
    },
    "tags": []
   },
   "source": [
    "## Step 3: Make Predictions with Validation data\n"
   ]
  },
  {
   "cell_type": "code",
   "execution_count": 6,
   "id": "a48bed50",
   "metadata": {
    "execution": {
     "iopub.execute_input": "2022-06-15T16:35:40.794682Z",
     "iopub.status.busy": "2022-06-15T16:35:40.794282Z",
     "iopub.status.idle": "2022-06-15T16:35:40.806025Z",
     "shell.execute_reply": "2022-06-15T16:35:40.805140Z"
    },
    "papermill": {
     "duration": 0.020389,
     "end_time": "2022-06-15T16:35:40.807918",
     "exception": false,
     "start_time": "2022-06-15T16:35:40.787529",
     "status": "completed"
    },
    "tags": []
   },
   "outputs": [
    {
     "data": {
      "application/javascript": [
       "parent.postMessage({\"jupyterEvent\": \"custom.exercise_interaction\", \"data\": {\"outcomeType\": 1, \"valueTowardsCompletion\": 0.25, \"interactionType\": 1, \"questionType\": 2, \"questionId\": \"3_ValPreds\", \"learnToolsVersion\": \"0.3.4\", \"failureMessage\": \"\", \"exceptionClass\": \"\", \"trace\": \"\"}}, \"*\")"
      ],
      "text/plain": [
       "<IPython.core.display.Javascript object>"
      ]
     },
     "metadata": {},
     "output_type": "display_data"
    },
    {
     "data": {
      "text/markdown": [
       "<span style=\"color:#33cc33\">Correct</span>"
      ],
      "text/plain": [
       "Correct"
      ]
     },
     "metadata": {},
     "output_type": "display_data"
    }
   ],
   "source": [
    "# Predict with all validation observations\n",
    "val_predictions =iowa_model.predict(val_X)\n",
    "\n",
    "# Check your answer\n",
    "step_3.check()"
   ]
  },
  {
   "cell_type": "code",
   "execution_count": 7,
   "id": "6236f101",
   "metadata": {
    "execution": {
     "iopub.execute_input": "2022-06-15T16:35:40.821895Z",
     "iopub.status.busy": "2022-06-15T16:35:40.821345Z",
     "iopub.status.idle": "2022-06-15T16:35:40.824434Z",
     "shell.execute_reply": "2022-06-15T16:35:40.823843Z"
    },
    "papermill": {
     "duration": 0.011832,
     "end_time": "2022-06-15T16:35:40.826201",
     "exception": false,
     "start_time": "2022-06-15T16:35:40.814369",
     "status": "completed"
    },
    "tags": []
   },
   "outputs": [],
   "source": [
    "# step_3.hint()\n",
    "# step_3.solution()"
   ]
  },
  {
   "cell_type": "markdown",
   "id": "3349a4c0",
   "metadata": {
    "papermill": {
     "duration": 0.00574,
     "end_time": "2022-06-15T16:35:40.837942",
     "exception": false,
     "start_time": "2022-06-15T16:35:40.832202",
     "status": "completed"
    },
    "tags": []
   },
   "source": [
    "Inspect your predictions and actual values from validation data."
   ]
  },
  {
   "cell_type": "code",
   "execution_count": 8,
   "id": "82d84393",
   "metadata": {
    "execution": {
     "iopub.execute_input": "2022-06-15T16:35:40.851625Z",
     "iopub.status.busy": "2022-06-15T16:35:40.851207Z",
     "iopub.status.idle": "2022-06-15T16:35:40.856545Z",
     "shell.execute_reply": "2022-06-15T16:35:40.855929Z"
    },
    "papermill": {
     "duration": 0.014571,
     "end_time": "2022-06-15T16:35:40.858613",
     "exception": false,
     "start_time": "2022-06-15T16:35:40.844042",
     "status": "completed"
    },
    "tags": []
   },
   "outputs": [
    {
     "name": "stdout",
     "output_type": "stream",
     "text": [
      "[186500. 184000. 130000.  92000. 164500.]\n",
      "258     231500\n",
      "267     179500\n",
      "288     122000\n",
      "649      84500\n",
      "1233    142000\n",
      "Name: SalePrice, dtype: int64\n"
     ]
    }
   ],
   "source": [
    "# print the top few validation predictions\n",
    "print(val_predictions[0:5])\n",
    "# print the top few actual prices from validation data\n",
    "print(val_y[0:5])"
   ]
  },
  {
   "cell_type": "markdown",
   "id": "33217b4a",
   "metadata": {
    "papermill": {
     "duration": 0.00581,
     "end_time": "2022-06-15T16:35:40.870542",
     "exception": false,
     "start_time": "2022-06-15T16:35:40.864732",
     "status": "completed"
    },
    "tags": []
   },
   "source": [
    "What do you notice that is different from what you saw with in-sample predictions (which are printed after the top code cell in this page).\n",
    "\n",
    "Do you remember why validation predictions differ from in-sample (or training) predictions? This is an important idea from the last lesson.\n",
    "\n",
    "## Step 4: Calculate the Mean Absolute Error in Validation Data\n"
   ]
  },
  {
   "cell_type": "code",
   "execution_count": 9,
   "id": "e7ce4cae",
   "metadata": {
    "execution": {
     "iopub.execute_input": "2022-06-15T16:35:40.884439Z",
     "iopub.status.busy": "2022-06-15T16:35:40.883827Z",
     "iopub.status.idle": "2022-06-15T16:35:40.892143Z",
     "shell.execute_reply": "2022-06-15T16:35:40.891531Z"
    },
    "papermill": {
     "duration": 0.017295,
     "end_time": "2022-06-15T16:35:40.893827",
     "exception": false,
     "start_time": "2022-06-15T16:35:40.876532",
     "status": "completed"
    },
    "tags": []
   },
   "outputs": [
    {
     "name": "stdout",
     "output_type": "stream",
     "text": [
      "29652.931506849316\n"
     ]
    },
    {
     "data": {
      "application/javascript": [
       "parent.postMessage({\"jupyterEvent\": \"custom.exercise_interaction\", \"data\": {\"outcomeType\": 1, \"valueTowardsCompletion\": 0.25, \"interactionType\": 1, \"questionType\": 1, \"questionId\": \"4_MAE\", \"learnToolsVersion\": \"0.3.4\", \"failureMessage\": \"\", \"exceptionClass\": \"\", \"trace\": \"\"}}, \"*\")"
      ],
      "text/plain": [
       "<IPython.core.display.Javascript object>"
      ]
     },
     "metadata": {},
     "output_type": "display_data"
    },
    {
     "data": {
      "text/markdown": [
       "<span style=\"color:#33cc33\">Correct</span>"
      ],
      "text/plain": [
       "Correct"
      ]
     },
     "metadata": {},
     "output_type": "display_data"
    }
   ],
   "source": [
    "from sklearn.metrics import mean_absolute_error\n",
    "val_mae = mean_absolute_error(val_y,val_predictions)\n",
    "\n",
    "# uncomment following line to see the validation_mae\n",
    "print(val_mae)\n",
    "\n",
    "# Check your answer\n",
    "step_4.check()"
   ]
  },
  {
   "cell_type": "code",
   "execution_count": 10,
   "id": "641e4a2f",
   "metadata": {
    "execution": {
     "iopub.execute_input": "2022-06-15T16:35:40.909193Z",
     "iopub.status.busy": "2022-06-15T16:35:40.908544Z",
     "iopub.status.idle": "2022-06-15T16:35:40.911859Z",
     "shell.execute_reply": "2022-06-15T16:35:40.911239Z"
    },
    "papermill": {
     "duration": 0.013156,
     "end_time": "2022-06-15T16:35:40.913614",
     "exception": false,
     "start_time": "2022-06-15T16:35:40.900458",
     "status": "completed"
    },
    "tags": []
   },
   "outputs": [],
   "source": [
    "# step_4.hint()\n",
    "# step_4.solution()"
   ]
  },
  {
   "cell_type": "markdown",
   "id": "d8e9b9fe",
   "metadata": {
    "papermill": {
     "duration": 0.00636,
     "end_time": "2022-06-15T16:35:40.926664",
     "exception": false,
     "start_time": "2022-06-15T16:35:40.920304",
     "status": "completed"
    },
    "tags": []
   },
   "source": [
    "Is that MAE good?  There isn't a general rule for what values are good that applies across applications. But you'll see how to use (and improve) this number in the next step.\n",
    "\n",
    "# Keep Going\n",
    "\n",
    "You are ready for **[Underfitting and Overfitting](https://www.kaggle.com/dansbecker/underfitting-and-overfitting).**\n"
   ]
  },
  {
   "cell_type": "markdown",
   "id": "93533fe2",
   "metadata": {
    "papermill": {
     "duration": 0.00601,
     "end_time": "2022-06-15T16:35:40.938921",
     "exception": false,
     "start_time": "2022-06-15T16:35:40.932911",
     "status": "completed"
    },
    "tags": []
   },
   "source": [
    "---\n",
    "\n",
    "\n",
    "\n",
    "\n",
    "*Have questions or comments? Visit the [course discussion forum](https://www.kaggle.com/learn/intro-to-machine-learning/discussion) to chat with other learners.*"
   ]
  }
 ],
 "metadata": {
  "kernelspec": {
   "display_name": "Python 3",
   "language": "python",
   "name": "python3"
  },
  "language_info": {
   "codemirror_mode": {
    "name": "ipython",
    "version": 3
   },
   "file_extension": ".py",
   "mimetype": "text/x-python",
   "name": "python",
   "nbconvert_exporter": "python",
   "pygments_lexer": "ipython3",
   "version": "3.7.12"
  },
  "papermill": {
   "default_parameters": {},
   "duration": 11.728654,
   "end_time": "2022-06-15T16:35:41.667935",
   "environment_variables": {},
   "exception": null,
   "input_path": "__notebook__.ipynb",
   "output_path": "__notebook__.ipynb",
   "parameters": {},
   "start_time": "2022-06-15T16:35:29.939281",
   "version": "2.3.4"
  }
 },
 "nbformat": 4,
 "nbformat_minor": 5
}
