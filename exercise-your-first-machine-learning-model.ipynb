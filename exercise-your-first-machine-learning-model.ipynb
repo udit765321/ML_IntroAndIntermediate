{
 "cells": [
  {
   "cell_type": "markdown",
   "id": "f4432c71",
   "metadata": {
    "papermill": {
     "duration": 0.00932,
     "end_time": "2022-06-15T16:35:13.599075",
     "exception": false,
     "start_time": "2022-06-15T16:35:13.589755",
     "status": "completed"
    },
    "tags": []
   },
   "source": [
    "**This notebook is an exercise in the [Introduction to Machine Learning](https://www.kaggle.com/learn/intro-to-machine-learning) course.  You can reference the tutorial at [this link](https://www.kaggle.com/dansbecker/your-first-machine-learning-model).**\n",
    "\n",
    "---\n"
   ]
  },
  {
   "cell_type": "markdown",
   "id": "6c5fefce",
   "metadata": {
    "papermill": {
     "duration": 0.005545,
     "end_time": "2022-06-15T16:35:13.610643",
     "exception": false,
     "start_time": "2022-06-15T16:35:13.605098",
     "status": "completed"
    },
    "tags": []
   },
   "source": [
    "## Recap\n",
    "So far, you have loaded your data and reviewed it with the following code. Run this cell to set up your coding environment where the previous step left off."
   ]
  },
  {
   "cell_type": "code",
   "execution_count": 1,
   "id": "194385b4",
   "metadata": {
    "execution": {
     "iopub.execute_input": "2022-06-15T16:35:13.624809Z",
     "iopub.status.busy": "2022-06-15T16:35:13.624302Z",
     "iopub.status.idle": "2022-06-15T16:35:15.105321Z",
     "shell.execute_reply": "2022-06-15T16:35:15.104346Z"
    },
    "papermill": {
     "duration": 1.492795,
     "end_time": "2022-06-15T16:35:15.109745",
     "exception": false,
     "start_time": "2022-06-15T16:35:13.616950",
     "status": "completed"
    },
    "tags": []
   },
   "outputs": [
    {
     "name": "stdout",
     "output_type": "stream",
     "text": [
      "Setup Complete\n"
     ]
    }
   ],
   "source": [
    "# Code you have previously used to load data\n",
    "import pandas as pd\n",
    "\n",
    "# Path of the file to read\n",
    "iowa_file_path = '../input/home-data-for-ml-course/train.csv'\n",
    "\n",
    "home_data = pd.read_csv(iowa_file_path)\n",
    "\n",
    "# Set up code checking\n",
    "from learntools.core import binder\n",
    "binder.bind(globals())\n",
    "from learntools.machine_learning.ex3 import *\n",
    "\n",
    "print(\"Setup Complete\")"
   ]
  },
  {
   "cell_type": "markdown",
   "id": "f99a698b",
   "metadata": {
    "papermill": {
     "duration": 0.005662,
     "end_time": "2022-06-15T16:35:15.122951",
     "exception": false,
     "start_time": "2022-06-15T16:35:15.117289",
     "status": "completed"
    },
    "tags": []
   },
   "source": [
    "# Exercises\n",
    "\n",
    "## Step 1: Specify Prediction Target\n",
    "Select the target variable, which corresponds to the sales price. Save this to a new variable called `y`. You'll need to print a list of the columns to find the name of the column you need.\n"
   ]
  },
  {
   "cell_type": "code",
   "execution_count": 2,
   "id": "ca70e14a",
   "metadata": {
    "execution": {
     "iopub.execute_input": "2022-06-15T16:35:15.137733Z",
     "iopub.status.busy": "2022-06-15T16:35:15.135688Z",
     "iopub.status.idle": "2022-06-15T16:35:15.146200Z",
     "shell.execute_reply": "2022-06-15T16:35:15.145243Z"
    },
    "papermill": {
     "duration": 0.019904,
     "end_time": "2022-06-15T16:35:15.148727",
     "exception": false,
     "start_time": "2022-06-15T16:35:15.128823",
     "status": "completed"
    },
    "tags": []
   },
   "outputs": [
    {
     "data": {
      "text/plain": [
       "Index(['Id', 'MSSubClass', 'MSZoning', 'LotFrontage', 'LotArea', 'Street',\n",
       "       'Alley', 'LotShape', 'LandContour', 'Utilities', 'LotConfig',\n",
       "       'LandSlope', 'Neighborhood', 'Condition1', 'Condition2', 'BldgType',\n",
       "       'HouseStyle', 'OverallQual', 'OverallCond', 'YearBuilt', 'YearRemodAdd',\n",
       "       'RoofStyle', 'RoofMatl', 'Exterior1st', 'Exterior2nd', 'MasVnrType',\n",
       "       'MasVnrArea', 'ExterQual', 'ExterCond', 'Foundation', 'BsmtQual',\n",
       "       'BsmtCond', 'BsmtExposure', 'BsmtFinType1', 'BsmtFinSF1',\n",
       "       'BsmtFinType2', 'BsmtFinSF2', 'BsmtUnfSF', 'TotalBsmtSF', 'Heating',\n",
       "       'HeatingQC', 'CentralAir', 'Electrical', '1stFlrSF', '2ndFlrSF',\n",
       "       'LowQualFinSF', 'GrLivArea', 'BsmtFullBath', 'BsmtHalfBath', 'FullBath',\n",
       "       'HalfBath', 'BedroomAbvGr', 'KitchenAbvGr', 'KitchenQual',\n",
       "       'TotRmsAbvGrd', 'Functional', 'Fireplaces', 'FireplaceQu', 'GarageType',\n",
       "       'GarageYrBlt', 'GarageFinish', 'GarageCars', 'GarageArea', 'GarageQual',\n",
       "       'GarageCond', 'PavedDrive', 'WoodDeckSF', 'OpenPorchSF',\n",
       "       'EnclosedPorch', '3SsnPorch', 'ScreenPorch', 'PoolArea', 'PoolQC',\n",
       "       'Fence', 'MiscFeature', 'MiscVal', 'MoSold', 'YrSold', 'SaleType',\n",
       "       'SaleCondition', 'SalePrice'],\n",
       "      dtype='object')"
      ]
     },
     "execution_count": 2,
     "metadata": {},
     "output_type": "execute_result"
    }
   ],
   "source": [
    "# print the list of columns in the dataset to find the name of the prediction target\n",
    "home_data.columns"
   ]
  },
  {
   "cell_type": "code",
   "execution_count": 3,
   "id": "4329eb3c",
   "metadata": {
    "execution": {
     "iopub.execute_input": "2022-06-15T16:35:15.163126Z",
     "iopub.status.busy": "2022-06-15T16:35:15.162420Z",
     "iopub.status.idle": "2022-06-15T16:35:15.175050Z",
     "shell.execute_reply": "2022-06-15T16:35:15.174230Z"
    },
    "papermill": {
     "duration": 0.021944,
     "end_time": "2022-06-15T16:35:15.176872",
     "exception": false,
     "start_time": "2022-06-15T16:35:15.154928",
     "status": "completed"
    },
    "tags": []
   },
   "outputs": [
    {
     "data": {
      "application/javascript": [
       "parent.postMessage({\"jupyterEvent\": \"custom.exercise_interaction\", \"data\": {\"outcomeType\": 1, \"valueTowardsCompletion\": 0.25, \"interactionType\": 1, \"questionType\": 2, \"questionId\": \"1_SetTarget\", \"learnToolsVersion\": \"0.3.4\", \"failureMessage\": \"\", \"exceptionClass\": \"\", \"trace\": \"\"}}, \"*\")"
      ],
      "text/plain": [
       "<IPython.core.display.Javascript object>"
      ]
     },
     "metadata": {},
     "output_type": "display_data"
    },
    {
     "data": {
      "text/markdown": [
       "<span style=\"color:#33cc33\">Correct</span>"
      ],
      "text/plain": [
       "Correct"
      ]
     },
     "metadata": {},
     "output_type": "display_data"
    }
   ],
   "source": [
    "y = home_data.SalePrice\n",
    "# Check your answer\n",
    "step_1.check()"
   ]
  },
  {
   "cell_type": "code",
   "execution_count": 4,
   "id": "8e27f581",
   "metadata": {
    "collapsed": true,
    "execution": {
     "iopub.execute_input": "2022-06-15T16:35:15.192387Z",
     "iopub.status.busy": "2022-06-15T16:35:15.191206Z",
     "iopub.status.idle": "2022-06-15T16:35:15.195794Z",
     "shell.execute_reply": "2022-06-15T16:35:15.194676Z"
    },
    "jupyter": {
     "outputs_hidden": true
    },
    "papermill": {
     "duration": 0.015486,
     "end_time": "2022-06-15T16:35:15.198664",
     "exception": false,
     "start_time": "2022-06-15T16:35:15.183178",
     "status": "completed"
    },
    "tags": []
   },
   "outputs": [],
   "source": [
    "# The lines below will show you a hint or the solution.\n",
    "# step_1.hint() \n",
    "# step_1.solution()"
   ]
  },
  {
   "cell_type": "markdown",
   "id": "3e0d71d1",
   "metadata": {
    "papermill": {
     "duration": 0.006228,
     "end_time": "2022-06-15T16:35:15.211287",
     "exception": false,
     "start_time": "2022-06-15T16:35:15.205059",
     "status": "completed"
    },
    "tags": []
   },
   "source": [
    "## Step 2: Create X\n",
    "Now you will create a DataFrame called `X` holding the predictive features.\n",
    "\n",
    "Since you want only some columns from the original data, you'll first create a list with the names of the columns you want in `X`.\n",
    "\n",
    "You'll use just the following columns in the list (you can copy and paste the whole list to save some typing, though you'll still need to add quotes):\n",
    "  * LotArea\n",
    "  * YearBuilt\n",
    "  * 1stFlrSF\n",
    "  * 2ndFlrSF\n",
    "  * FullBath\n",
    "  * BedroomAbvGr\n",
    "  * TotRmsAbvGrd\n",
    "\n",
    "After you've created that list of features, use it to create the DataFrame that you'll use to fit the model."
   ]
  },
  {
   "cell_type": "code",
   "execution_count": 5,
   "id": "17749798",
   "metadata": {
    "execution": {
     "iopub.execute_input": "2022-06-15T16:35:15.226621Z",
     "iopub.status.busy": "2022-06-15T16:35:15.225618Z",
     "iopub.status.idle": "2022-06-15T16:35:15.239104Z",
     "shell.execute_reply": "2022-06-15T16:35:15.238402Z"
    },
    "papermill": {
     "duration": 0.023119,
     "end_time": "2022-06-15T16:35:15.241014",
     "exception": false,
     "start_time": "2022-06-15T16:35:15.217895",
     "status": "completed"
    },
    "tags": []
   },
   "outputs": [
    {
     "data": {
      "application/javascript": [
       "parent.postMessage({\"jupyterEvent\": \"custom.exercise_interaction\", \"data\": {\"outcomeType\": 1, \"valueTowardsCompletion\": 0.25, \"interactionType\": 1, \"questionType\": 2, \"questionId\": \"2_SelectPredictionData\", \"learnToolsVersion\": \"0.3.4\", \"failureMessage\": \"\", \"exceptionClass\": \"\", \"trace\": \"\"}}, \"*\")"
      ],
      "text/plain": [
       "<IPython.core.display.Javascript object>"
      ]
     },
     "metadata": {},
     "output_type": "display_data"
    },
    {
     "data": {
      "text/markdown": [
       "<span style=\"color:#33cc33\">Correct</span>"
      ],
      "text/plain": [
       "Correct"
      ]
     },
     "metadata": {},
     "output_type": "display_data"
    }
   ],
   "source": [
    "# Create the list of features below\n",
    "feature_names = [\"LotArea\",\"YearBuilt\",\"1stFlrSF\",\"2ndFlrSF\",\"FullBath\",\"BedroomAbvGr\",\"TotRmsAbvGrd\"]\n",
    "\n",
    "# Select data corresponding to features in feature_names\n",
    "X = home_data[feature_names]\n",
    "\n",
    "# Check your answer\n",
    "step_2.check()"
   ]
  },
  {
   "cell_type": "code",
   "execution_count": 6,
   "id": "509bd930",
   "metadata": {
    "collapsed": true,
    "execution": {
     "iopub.execute_input": "2022-06-15T16:35:15.257308Z",
     "iopub.status.busy": "2022-06-15T16:35:15.256644Z",
     "iopub.status.idle": "2022-06-15T16:35:15.260016Z",
     "shell.execute_reply": "2022-06-15T16:35:15.259381Z"
    },
    "jupyter": {
     "outputs_hidden": true
    },
    "papermill": {
     "duration": 0.014342,
     "end_time": "2022-06-15T16:35:15.262058",
     "exception": false,
     "start_time": "2022-06-15T16:35:15.247716",
     "status": "completed"
    },
    "tags": []
   },
   "outputs": [],
   "source": [
    "# step_2.hint()\n",
    "# step_2.solution()"
   ]
  },
  {
   "cell_type": "markdown",
   "id": "1841861c",
   "metadata": {
    "papermill": {
     "duration": 0.006749,
     "end_time": "2022-06-15T16:35:15.275611",
     "exception": false,
     "start_time": "2022-06-15T16:35:15.268862",
     "status": "completed"
    },
    "tags": []
   },
   "source": [
    "## Review Data\n",
    "Before building a model, take a quick look at **X** to verify it looks sensible"
   ]
  },
  {
   "cell_type": "code",
   "execution_count": 7,
   "id": "9768862c",
   "metadata": {
    "execution": {
     "iopub.execute_input": "2022-06-15T16:35:15.291581Z",
     "iopub.status.busy": "2022-06-15T16:35:15.290912Z",
     "iopub.status.idle": "2022-06-15T16:35:15.302852Z",
     "shell.execute_reply": "2022-06-15T16:35:15.301942Z"
    },
    "papermill": {
     "duration": 0.022264,
     "end_time": "2022-06-15T16:35:15.305125",
     "exception": false,
     "start_time": "2022-06-15T16:35:15.282861",
     "status": "completed"
    },
    "tags": []
   },
   "outputs": [
    {
     "data": {
      "text/plain": [
       "<bound method NDFrame.head of       LotArea  YearBuilt  1stFlrSF  2ndFlrSF  FullBath  BedroomAbvGr  \\\n",
       "0        8450       2003       856       854         2             3   \n",
       "1        9600       1976      1262         0         2             3   \n",
       "2       11250       2001       920       866         2             3   \n",
       "3        9550       1915       961       756         1             3   \n",
       "4       14260       2000      1145      1053         2             4   \n",
       "...       ...        ...       ...       ...       ...           ...   \n",
       "1455     7917       1999       953       694         2             3   \n",
       "1456    13175       1978      2073         0         2             3   \n",
       "1457     9042       1941      1188      1152         2             4   \n",
       "1458     9717       1950      1078         0         1             2   \n",
       "1459     9937       1965      1256         0         1             3   \n",
       "\n",
       "      TotRmsAbvGrd  \n",
       "0                8  \n",
       "1                6  \n",
       "2                6  \n",
       "3                7  \n",
       "4                9  \n",
       "...            ...  \n",
       "1455             7  \n",
       "1456             7  \n",
       "1457             9  \n",
       "1458             5  \n",
       "1459             6  \n",
       "\n",
       "[1460 rows x 7 columns]>"
      ]
     },
     "execution_count": 7,
     "metadata": {},
     "output_type": "execute_result"
    }
   ],
   "source": [
    "# Review data\n",
    "# print description or statistics from X\n",
    "#print(_)\n",
    "X.head\n",
    "# print the top few lines\n",
    "#print(_)"
   ]
  },
  {
   "cell_type": "markdown",
   "id": "e9c8480e",
   "metadata": {
    "papermill": {
     "duration": 0.007118,
     "end_time": "2022-06-15T16:35:15.319478",
     "exception": false,
     "start_time": "2022-06-15T16:35:15.312360",
     "status": "completed"
    },
    "tags": []
   },
   "source": [
    "## Step 3: Specify and Fit Model\n",
    "Create a `DecisionTreeRegressor` and save it iowa_model. Ensure you've done the relevant import from sklearn to run this command.\n",
    "\n",
    "Then fit the model you just created using the data in `X` and `y` that you saved above."
   ]
  },
  {
   "cell_type": "code",
   "execution_count": 8,
   "id": "3e0b12f2",
   "metadata": {
    "execution": {
     "iopub.execute_input": "2022-06-15T16:35:15.335139Z",
     "iopub.status.busy": "2022-06-15T16:35:15.334210Z",
     "iopub.status.idle": "2022-06-15T16:35:15.354844Z",
     "shell.execute_reply": "2022-06-15T16:35:15.353877Z"
    },
    "papermill": {
     "duration": 0.0309,
     "end_time": "2022-06-15T16:35:15.357102",
     "exception": false,
     "start_time": "2022-06-15T16:35:15.326202",
     "status": "completed"
    },
    "tags": []
   },
   "outputs": [
    {
     "data": {
      "application/javascript": [
       "parent.postMessage({\"jupyterEvent\": \"custom.exercise_interaction\", \"data\": {\"outcomeType\": 1, \"valueTowardsCompletion\": 0.25, \"interactionType\": 1, \"questionType\": 2, \"questionId\": \"3_CreateModel\", \"learnToolsVersion\": \"0.3.4\", \"failureMessage\": \"\", \"exceptionClass\": \"\", \"trace\": \"\"}}, \"*\")"
      ],
      "text/plain": [
       "<IPython.core.display.Javascript object>"
      ]
     },
     "metadata": {},
     "output_type": "display_data"
    },
    {
     "data": {
      "text/markdown": [
       "<span style=\"color:#33cc33\">Correct</span>"
      ],
      "text/plain": [
       "Correct"
      ]
     },
     "metadata": {},
     "output_type": "display_data"
    }
   ],
   "source": [
    "# from _ import _\n",
    "#specify the model. \n",
    "#For model reproducibility, set a numeric value for random_state when specifying the model\n",
    "from sklearn.tree import DecisionTreeRegressor\n",
    "iowa_model = DecisionTreeRegressor(random_state=1)\n",
    "\n",
    "# Fit the model\n",
    "iowa_model.fit(X,y)\n",
    "\n",
    "# Check your answer\n",
    "step_3.check()"
   ]
  },
  {
   "cell_type": "code",
   "execution_count": 9,
   "id": "6dffd97a",
   "metadata": {
    "collapsed": true,
    "execution": {
     "iopub.execute_input": "2022-06-15T16:35:15.372963Z",
     "iopub.status.busy": "2022-06-15T16:35:15.372181Z",
     "iopub.status.idle": "2022-06-15T16:35:15.376828Z",
     "shell.execute_reply": "2022-06-15T16:35:15.375808Z"
    },
    "jupyter": {
     "outputs_hidden": true
    },
    "papermill": {
     "duration": 0.01486,
     "end_time": "2022-06-15T16:35:15.378987",
     "exception": false,
     "start_time": "2022-06-15T16:35:15.364127",
     "status": "completed"
    },
    "tags": []
   },
   "outputs": [],
   "source": [
    "# step_3.hint()\n",
    "# step_3.solution()"
   ]
  },
  {
   "cell_type": "markdown",
   "id": "511e44a6",
   "metadata": {
    "papermill": {
     "duration": 0.006805,
     "end_time": "2022-06-15T16:35:15.393247",
     "exception": false,
     "start_time": "2022-06-15T16:35:15.386442",
     "status": "completed"
    },
    "tags": []
   },
   "source": [
    "## Step 4: Make Predictions\n",
    "Make predictions with the model's `predict` command using `X` as the data. Save the results to a variable called `predictions`."
   ]
  },
  {
   "cell_type": "code",
   "execution_count": 10,
   "id": "927ad75b",
   "metadata": {
    "execution": {
     "iopub.execute_input": "2022-06-15T16:35:15.409037Z",
     "iopub.status.busy": "2022-06-15T16:35:15.408644Z",
     "iopub.status.idle": "2022-06-15T16:35:15.420900Z",
     "shell.execute_reply": "2022-06-15T16:35:15.419905Z"
    },
    "papermill": {
     "duration": 0.023317,
     "end_time": "2022-06-15T16:35:15.423725",
     "exception": false,
     "start_time": "2022-06-15T16:35:15.400408",
     "status": "completed"
    },
    "tags": []
   },
   "outputs": [
    {
     "name": "stdout",
     "output_type": "stream",
     "text": [
      "[208500. 181500. 223500. ... 266500. 142125. 147500.]\n"
     ]
    },
    {
     "data": {
      "application/javascript": [
       "parent.postMessage({\"jupyterEvent\": \"custom.exercise_interaction\", \"data\": {\"outcomeType\": 1, \"valueTowardsCompletion\": 0.25, \"interactionType\": 1, \"questionType\": 2, \"questionId\": \"4_MakePredictions\", \"learnToolsVersion\": \"0.3.4\", \"failureMessage\": \"\", \"exceptionClass\": \"\", \"trace\": \"\"}}, \"*\")"
      ],
      "text/plain": [
       "<IPython.core.display.Javascript object>"
      ]
     },
     "metadata": {},
     "output_type": "display_data"
    },
    {
     "data": {
      "text/markdown": [
       "<span style=\"color:#33cc33\">Correct</span>"
      ],
      "text/plain": [
       "Correct"
      ]
     },
     "metadata": {},
     "output_type": "display_data"
    }
   ],
   "source": [
    "predictions =iowa_model.predict(X)\n",
    "print(predictions)\n",
    "\n",
    "# Check your answer\n",
    "step_4.check()"
   ]
  },
  {
   "cell_type": "code",
   "execution_count": 11,
   "id": "82c6b52b",
   "metadata": {
    "collapsed": true,
    "execution": {
     "iopub.execute_input": "2022-06-15T16:35:15.441571Z",
     "iopub.status.busy": "2022-06-15T16:35:15.440826Z",
     "iopub.status.idle": "2022-06-15T16:35:15.446564Z",
     "shell.execute_reply": "2022-06-15T16:35:15.445371Z"
    },
    "jupyter": {
     "outputs_hidden": true
    },
    "papermill": {
     "duration": 0.017319,
     "end_time": "2022-06-15T16:35:15.448976",
     "exception": false,
     "start_time": "2022-06-15T16:35:15.431657",
     "status": "completed"
    },
    "tags": []
   },
   "outputs": [],
   "source": [
    "# step_4.hint()\n",
    "# step_4.solution()"
   ]
  },
  {
   "cell_type": "markdown",
   "id": "076e7275",
   "metadata": {
    "papermill": {
     "duration": 0.007248,
     "end_time": "2022-06-15T16:35:15.463846",
     "exception": false,
     "start_time": "2022-06-15T16:35:15.456598",
     "status": "completed"
    },
    "tags": []
   },
   "source": [
    "## Think About Your Results\n",
    "\n",
    "Use the `head` method to compare the top few predictions to the actual home values (in `y`) for those same homes. Anything surprising?\n"
   ]
  },
  {
   "cell_type": "code",
   "execution_count": 12,
   "id": "351695cc",
   "metadata": {
    "execution": {
     "iopub.execute_input": "2022-06-15T16:35:15.481330Z",
     "iopub.status.busy": "2022-06-15T16:35:15.480702Z",
     "iopub.status.idle": "2022-06-15T16:35:15.484796Z",
     "shell.execute_reply": "2022-06-15T16:35:15.484036Z"
    },
    "papermill": {
     "duration": 0.014914,
     "end_time": "2022-06-15T16:35:15.486767",
     "exception": false,
     "start_time": "2022-06-15T16:35:15.471853",
     "status": "completed"
    },
    "tags": []
   },
   "outputs": [],
   "source": [
    "# You can write code in this cell\n"
   ]
  },
  {
   "cell_type": "markdown",
   "id": "82ffda1d",
   "metadata": {
    "papermill": {
     "duration": 0.007284,
     "end_time": "2022-06-15T16:35:15.501574",
     "exception": false,
     "start_time": "2022-06-15T16:35:15.494290",
     "status": "completed"
    },
    "tags": []
   },
   "source": [
    "It's natural to ask how accurate the model's predictions will be and how you can improve that. That will be you're next step.\n",
    "\n",
    "# Keep Going\n",
    "\n",
    "You are ready for **[Model Validation](https://www.kaggle.com/dansbecker/model-validation).**\n"
   ]
  },
  {
   "cell_type": "markdown",
   "id": "1be2c192",
   "metadata": {
    "papermill": {
     "duration": 0.00733,
     "end_time": "2022-06-15T16:35:15.516536",
     "exception": false,
     "start_time": "2022-06-15T16:35:15.509206",
     "status": "completed"
    },
    "tags": []
   },
   "source": [
    "---\n",
    "\n",
    "\n",
    "\n",
    "\n",
    "*Have questions or comments? Visit the [course discussion forum](https://www.kaggle.com/learn/intro-to-machine-learning/discussion) to chat with other learners.*"
   ]
  }
 ],
 "metadata": {
  "kernelspec": {
   "display_name": "Python 3",
   "language": "python",
   "name": "python3"
  },
  "language_info": {
   "codemirror_mode": {
    "name": "ipython",
    "version": 3
   },
   "file_extension": ".py",
   "mimetype": "text/x-python",
   "name": "python",
   "nbconvert_exporter": "python",
   "pygments_lexer": "ipython3",
   "version": "3.7.12"
  },
  "papermill": {
   "default_parameters": {},
   "duration": 13.4649,
   "end_time": "2022-06-15T16:35:16.245623",
   "environment_variables": {},
   "exception": null,
   "input_path": "__notebook__.ipynb",
   "output_path": "__notebook__.ipynb",
   "parameters": {},
   "start_time": "2022-06-15T16:35:02.780723",
   "version": "2.3.4"
  }
 },
 "nbformat": 4,
 "nbformat_minor": 5
}
